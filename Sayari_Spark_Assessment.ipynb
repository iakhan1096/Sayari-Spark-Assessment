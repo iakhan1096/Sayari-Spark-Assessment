{
  "nbformat": 4,
  "nbformat_minor": 0,
  "metadata": {
    "colab": {
      "provenance": []
    },
    "kernelspec": {
      "name": "python3",
      "display_name": "Python 3"
    },
    "language_info": {
      "name": "python"
    }
  },
  "cells": [
    {
      "cell_type": "code",
      "source": [
        "from pyspark.sql import SparkSession\n",
        "from pyspark.sql.functions import col, udf\n",
        "from fuzzywuzzy import fuzz\n",
        "from pyspark.sql.types import IntegerType"
      ],
      "metadata": {
        "id": "8Jm6Z8HRz8hz"
      },
      "execution_count": 26,
      "outputs": []
    },
    {
      "cell_type": "code",
      "source": [
        "spark = SparkSession.builder.appName(\"Sayari_Spark_Assessment\").getOrCreate()"
      ],
      "metadata": {
        "id": "zgAdN8i3z8fk"
      },
      "execution_count": 27,
      "outputs": []
    },
    {
      "cell_type": "code",
      "source": [
        "ofac_original_df = spark.read.format(\"json\").load(\"/content/ofac.jsonl\")"
      ],
      "metadata": {
        "id": "IvabIAqDz8dZ"
      },
      "execution_count": 28,
      "outputs": []
    },
    {
      "cell_type": "code",
      "source": [
        "ofac_df = ofac_original_df.select(\n",
        "                        col(\"addresses\").alias(\"ofac_addresses\"),\n",
        "                        col(\"id\").alias(\"ofac_id\"),\n",
        "                        col(\"id_numbers\").alias(\"ofac_id_numbers\"),\n",
        "                        col(\"name\").alias(\"registered_ofac_name\"),\n",
        "                        col(\"nationality\").alias(\"ofac_nationality\"),\n",
        "                        col(\"place_of_birth\").alias(\"ofac_place_of_birth\"),\n",
        "                        col(\"position\").alias(\"ofac_position\"),\n",
        "                        col(\"reported_dates_of_birth\").alias(\"ofac_reported_dates_of_birth\"),\n",
        "                        col(\"type\").alias(\"ofac_type\")\n",
        "                    )"
      ],
      "metadata": {
        "id": "31vOl1Bt14VT"
      },
      "execution_count": 29,
      "outputs": []
    },
    {
      "cell_type": "code",
      "source": [
        "ofac_df.show()"
      ],
      "metadata": {
        "colab": {
          "base_uri": "https://localhost:8080/"
        },
        "id": "DmJ2-V-S_r8T",
        "outputId": "312e5d6a-cea7-4d1c-fcb6-5bd162e1b930"
      },
      "execution_count": 30,
      "outputs": [
        {
          "output_type": "stream",
          "name": "stdout",
          "text": [
            "+--------------------+-------+---------------+--------------------+----------------+-------------------+--------------------+----------------------------+----------+\n",
            "|      ofac_addresses|ofac_id|ofac_id_numbers|registered_ofac_name|ofac_nationality|ofac_place_of_birth|       ofac_position|ofac_reported_dates_of_birth| ofac_type|\n",
            "+--------------------+-------+---------------+--------------------+----------------+-------------------+--------------------+----------------------------+----------+\n",
            "|[{Cuba, null, , ,...|     36|           null| AEROCARIBBEAN AI...|              []|               null|                null|                        null|    Entity|\n",
            "|[{United Kingdom,...|    173|           null| ANGLO-CARIBBEAN ...|              []|               null|                null|                        null|    Entity|\n",
            "|[{Switzerland, CH...|    306|           null| BANCO NACIONAL D...|              []|               null|                null|                        null|    Entity|\n",
            "|[{Panama, null, 4...|    424|           null|  BOUTIQUE LA MAISON|              []|               null|                null|                        null|    Entity|\n",
            "|[{Spain, null, , ...|    475|           null|        CASA DE CUBA|              []|               null|                null|                        null|    Entity|\n",
            "|[{Panama, null, ,...|    480|           null|        CECOEX, S.A.|              []|               null|                null|                        null|    Entity|\n",
            "|[{Mexico, 11570, ...|    535|           null|               CIMEX|              []|               null|                null|                        null|    Entity|\n",
            "|[{Spain, null, , ...|    536|           null|       CIMEX IBERICA|              []|               null|                null|                        null|    Entity|\n",
            "|[{Panama, null, ,...|    537|           null|         CIMEX, S.A.|              []|               null|                null|                        null|    Entity|\n",
            "|[{Spain, null, , ...|    540|           null| COMERCIAL IBEROA...|              []|               null|                null|                        null|    Entity|\n",
            "|[{Panama, null, ,...|    551|           null| COMERCIAL CIMEX,...|              []|               null|                null|                        null|    Entity|\n",
            "|[{Spain, 28016, J...|    552|           null| COMERCIAL DE ROD...|              []|               null|                null|                        null|    Entity|\n",
            "|[{France, null, ,...|    555|           null| COMERCIALIZACION...|              []|               null|                null|                        null|    Entity|\n",
            "|[{Spain, null, , ...|    559|           null| COMPANIA DE IMPO...|              []|               null|                null|                        null|    Entity|\n",
            "|[{Panama, null, ,...|    576|           null| CORPORACION CIME...|              []|               null|                null|                        null|    Entity|\n",
            "|[{Italy, null, , ...|    578|           null|               COTEI|              []|               null|                null|                        null|    Entity|\n",
            "|[{Japan, 103, Dai...|    587|           null|  Juan M. de la CRUZ|              []|               null|Director, Banco N...|                        null|Individual|\n",
            "|[{Argentina, null...|    589|           null| CRYMSA - ARGENTI...|              []|               null|                null|                        null|    Entity|\n",
            "|[{Mexico, null, ,...|    590|           null| CUBACANCUN CIGAR...|              []|               null|                null|                        null|    Entity|\n",
            "|[{Spain, null, , ...|    591|           null|          CUBAEXPORT|              []|               null|                null|                        null|    Entity|\n",
            "+--------------------+-------+---------------+--------------------+----------------+-------------------+--------------------+----------------------------+----------+\n",
            "only showing top 20 rows\n",
            "\n"
          ]
        }
      ]
    },
    {
      "cell_type": "code",
      "source": [
        "grb_original_df = spark.read.format(\"json\").load(\"gbr.jsonl\")"
      ],
      "metadata": {
        "id": "p9kx-1sfAhtm"
      },
      "execution_count": 31,
      "outputs": []
    },
    {
      "cell_type": "code",
      "source": [
        "grb_df = grb_original_df.select(\n",
        "                        col(\"addresses\").alias(\"grb_addresses\"),\n",
        "                        col(\"id\").alias(\"grb_id\"),\n",
        "                        col(\"id_numbers\").alias(\"grb_id_numbers\"),\n",
        "                        col(\"name\").alias(\"registered_grb_name\"),\n",
        "                        col(\"nationality\").alias(\"gbr_nationality\"),\n",
        "                        col(\"place_of_birth\").alias(\"gbr_place_of_birth\"),\n",
        "                        col(\"position\").alias(\"gbr_position\"),\n",
        "                        col(\"reported_dates_of_birth\").alias(\"gbr_reported_dates_of_birth\"),\n",
        "                        col(\"type\").alias(\"gbr_type\")\n",
        "                    )"
      ],
      "metadata": {
        "id": "Fwvt7UAD4chz"
      },
      "execution_count": 32,
      "outputs": []
    },
    {
      "cell_type": "code",
      "source": [
        "grb_df.show()"
      ],
      "metadata": {
        "colab": {
          "base_uri": "https://localhost:8080/"
        },
        "id": "QeQoCjZI0anW",
        "outputId": "5890975c-14cd-446f-9552-757f6b6516b7"
      },
      "execution_count": 33,
      "outputs": [
        {
          "output_type": "stream",
          "name": "stdout",
          "text": [
            "+--------------------+------+--------------------+--------------------+---------------+--------------------+--------------------+---------------------------+----------+\n",
            "|       grb_addresses|grb_id|      grb_id_numbers| registered_grb_name|gbr_nationality|  gbr_place_of_birth|        gbr_position|gbr_reported_dates_of_birth|  gbr_type|\n",
            "+--------------------+------+--------------------+--------------------+---------------+--------------------+--------------------+---------------------------+----------+\n",
            "|[{Democratic Peop...| 12847|                  []|KOREAN COMMITTEE ...|         [null]|                    |                null|                     [null]|    Entity|\n",
            "| [{Lebanon, null, }]| 13442|[{Passport: JX446...|      Hassan EL-HAJJ|     [Canadian]|Zaghdraiya, Sidon...|                null|               [22/03/1988]|Individual|\n",
            "|    [{null, null, }]| 13192|[{, 01010744444},...|  Ali Abdullah SALEH|        [Yemen]|(1) Bayt al-Ahmar...|President of Yeme...|       [21/03/1945, 21/0...|Individual|\n",
            "|    [{null, null, }]| 13610|                  []|Michael Makuei LEUTH|         [null]|(1) Bor, South Su...|Minister for Info...|               [00/00/1947]|Individual|\n",
            "|    [{null, null, }]| 13772|                  []|Mohammad Rami Rad...|       [Syrian]|       Aleppo, Syria| Minister of Tourism|               [00/00/1970]|Individual|\n",
            "|    [{null, null, }]| 13865|                  []|Larisa Anatolievn...|      [Russian]|                    |                null|               [18/11/1963]|Individual|\n",
            "|[{Pakistan, null,...| 11205|                  []|       Amir ABDULLAH|       [Afghan]|Paktika Province,...|                null|               [00/00/1972]|Individual|\n",
            "|    [{null, null, }]| 11236|                  []|       Rostam QASEMI|         [null]|         Sargh, Iran|(1) Former Minist...|       [00/00/1961, 05/0...|Individual|\n",
            "|    [{null, null, }]| 12637|                  []|Omar Ibrahim GHAL...|         [null]|      Tartous, Syria|Former Vice Prime...|               [00/00/1954]|Individual|\n",
            "|    [{null, null, }]|  9003|[{Passport: A0002...|Ahmad Vahid DASTJ...|         [Iran]|                    |     Head of the AIO|               [15/01/1954]|Individual|\n",
            "|    [{null, null, }]| 13187|                  []|LUHANSK ECONOMIC ...|         [null]|                    |                null|                     [null]|    Entity|\n",
            "|    [{null, null, }]| 13985|                  []|Ivan Stanislavavi...|   [Belarusian]|(1) Village Priva...|(1) Chairman of K...|               [08/09/1966]|Individual|\n",
            "|[{Jordan, null, A...|  8386|                  []|TRADING AND TRANS...|         [null]|                    |                null|                     [null]|    Entity|\n",
            "|[{Uganda (reporte...| 12204|                  []|        Jamil MUKULU|      [Ugandan]|Ntoke Village, Nt...|Head/Commander of...|       [00/00/1965, 01/0...|Individual|\n",
            "|    [{null, null, }]| 12811|                  []|HAQQANI NETWORK (...|         [null]|                    |                null|                     [null]|    Entity|\n",
            "|[{null, null, Cri...| 13041|                  []|Mikhail Vladimiro...|      [Russian]|  Kuibyshev (Samara)|(1) Member of the...|               [10/07/1981]|Individual|\n",
            "|    [{null, null, }]| 13660|                  []|           JI SONG 8|         [null]|                    |                null|                     [null]|    Entity|\n",
            "|    [{null, null, }]| 13866|[{, 1044087474}, ...|Abdulaziz Mohamme...|[Saudi Arabian]|Riyadh, Saudi Arabia|                null|               [20/07/1987]|Individual|\n",
            "|    [{null, null, }]|  7263|                  []| MAKHTAB AL-KHIDAMAT|         [null]|                    |                null|                     [null]|    Entity|\n",
            "|    [{null, null, }]|  8832|                  []|Gun Gun Rusman GU...|   [Indonesian]|Cianjur, West Jav...|                null|               [06/07/1977]|Individual|\n",
            "+--------------------+------+--------------------+--------------------+---------------+--------------------+--------------------+---------------------------+----------+\n",
            "only showing top 20 rows\n",
            "\n"
          ]
        }
      ]
    },
    {
      "cell_type": "code",
      "source": [
        "df_crossjoin = ofac_df.crossJoin(grb_df)"
      ],
      "metadata": {
        "id": "m0inKH2n5GJ8"
      },
      "execution_count": 34,
      "outputs": []
    },
    {
      "cell_type": "code",
      "source": [
        "df_crossjoin.show()"
      ],
      "metadata": {
        "colab": {
          "base_uri": "https://localhost:8080/"
        },
        "id": "bREHbYsc5y97",
        "outputId": "4a3d4599-4b87-49aa-e359-94b182d6ad00"
      },
      "execution_count": 35,
      "outputs": [
        {
          "output_type": "stream",
          "name": "stdout",
          "text": [
            "+--------------------+-------+---------------+--------------------+----------------+-------------------+-------------+----------------------------+---------+--------------------+------+--------------------+--------------------+---------------+--------------------+--------------------+---------------------------+----------+\n",
            "|      ofac_addresses|ofac_id|ofac_id_numbers|registered_ofac_name|ofac_nationality|ofac_place_of_birth|ofac_position|ofac_reported_dates_of_birth|ofac_type|       grb_addresses|grb_id|      grb_id_numbers| registered_grb_name|gbr_nationality|  gbr_place_of_birth|        gbr_position|gbr_reported_dates_of_birth|  gbr_type|\n",
            "+--------------------+-------+---------------+--------------------+----------------+-------------------+-------------+----------------------------+---------+--------------------+------+--------------------+--------------------+---------------+--------------------+--------------------+---------------------------+----------+\n",
            "|[{Cuba, null, , ,...|     36|           null| AEROCARIBBEAN AI...|              []|               null|         null|                        null|   Entity|[{Democratic Peop...| 12847|                  []|KOREAN COMMITTEE ...|         [null]|                    |                null|                     [null]|    Entity|\n",
            "|[{Cuba, null, , ,...|     36|           null| AEROCARIBBEAN AI...|              []|               null|         null|                        null|   Entity| [{Lebanon, null, }]| 13442|[{Passport: JX446...|      Hassan EL-HAJJ|     [Canadian]|Zaghdraiya, Sidon...|                null|               [22/03/1988]|Individual|\n",
            "|[{Cuba, null, , ,...|     36|           null| AEROCARIBBEAN AI...|              []|               null|         null|                        null|   Entity|    [{null, null, }]| 13192|[{, 01010744444},...|  Ali Abdullah SALEH|        [Yemen]|(1) Bayt al-Ahmar...|President of Yeme...|       [21/03/1945, 21/0...|Individual|\n",
            "|[{Cuba, null, , ,...|     36|           null| AEROCARIBBEAN AI...|              []|               null|         null|                        null|   Entity|    [{null, null, }]| 13610|                  []|Michael Makuei LEUTH|         [null]|(1) Bor, South Su...|Minister for Info...|               [00/00/1947]|Individual|\n",
            "|[{Cuba, null, , ,...|     36|           null| AEROCARIBBEAN AI...|              []|               null|         null|                        null|   Entity|    [{null, null, }]| 13772|                  []|Mohammad Rami Rad...|       [Syrian]|       Aleppo, Syria| Minister of Tourism|               [00/00/1970]|Individual|\n",
            "|[{Cuba, null, , ,...|     36|           null| AEROCARIBBEAN AI...|              []|               null|         null|                        null|   Entity|    [{null, null, }]| 13865|                  []|Larisa Anatolievn...|      [Russian]|                    |                null|               [18/11/1963]|Individual|\n",
            "|[{Cuba, null, , ,...|     36|           null| AEROCARIBBEAN AI...|              []|               null|         null|                        null|   Entity|[{Pakistan, null,...| 11205|                  []|       Amir ABDULLAH|       [Afghan]|Paktika Province,...|                null|               [00/00/1972]|Individual|\n",
            "|[{Cuba, null, , ,...|     36|           null| AEROCARIBBEAN AI...|              []|               null|         null|                        null|   Entity|    [{null, null, }]| 11236|                  []|       Rostam QASEMI|         [null]|         Sargh, Iran|(1) Former Minist...|       [00/00/1961, 05/0...|Individual|\n",
            "|[{Cuba, null, , ,...|     36|           null| AEROCARIBBEAN AI...|              []|               null|         null|                        null|   Entity|    [{null, null, }]| 12637|                  []|Omar Ibrahim GHAL...|         [null]|      Tartous, Syria|Former Vice Prime...|               [00/00/1954]|Individual|\n",
            "|[{Cuba, null, , ,...|     36|           null| AEROCARIBBEAN AI...|              []|               null|         null|                        null|   Entity|    [{null, null, }]|  9003|[{Passport: A0002...|Ahmad Vahid DASTJ...|         [Iran]|                    |     Head of the AIO|               [15/01/1954]|Individual|\n",
            "|[{Cuba, null, , ,...|     36|           null| AEROCARIBBEAN AI...|              []|               null|         null|                        null|   Entity|    [{null, null, }]| 13187|                  []|LUHANSK ECONOMIC ...|         [null]|                    |                null|                     [null]|    Entity|\n",
            "|[{Cuba, null, , ,...|     36|           null| AEROCARIBBEAN AI...|              []|               null|         null|                        null|   Entity|    [{null, null, }]| 13985|                  []|Ivan Stanislavavi...|   [Belarusian]|(1) Village Priva...|(1) Chairman of K...|               [08/09/1966]|Individual|\n",
            "|[{Cuba, null, , ,...|     36|           null| AEROCARIBBEAN AI...|              []|               null|         null|                        null|   Entity|[{Jordan, null, A...|  8386|                  []|TRADING AND TRANS...|         [null]|                    |                null|                     [null]|    Entity|\n",
            "|[{Cuba, null, , ,...|     36|           null| AEROCARIBBEAN AI...|              []|               null|         null|                        null|   Entity|[{Uganda (reporte...| 12204|                  []|        Jamil MUKULU|      [Ugandan]|Ntoke Village, Nt...|Head/Commander of...|       [00/00/1965, 01/0...|Individual|\n",
            "|[{Cuba, null, , ,...|     36|           null| AEROCARIBBEAN AI...|              []|               null|         null|                        null|   Entity|    [{null, null, }]| 12811|                  []|HAQQANI NETWORK (...|         [null]|                    |                null|                     [null]|    Entity|\n",
            "|[{Cuba, null, , ,...|     36|           null| AEROCARIBBEAN AI...|              []|               null|         null|                        null|   Entity|[{null, null, Cri...| 13041|                  []|Mikhail Vladimiro...|      [Russian]|  Kuibyshev (Samara)|(1) Member of the...|               [10/07/1981]|Individual|\n",
            "|[{Cuba, null, , ,...|     36|           null| AEROCARIBBEAN AI...|              []|               null|         null|                        null|   Entity|    [{null, null, }]| 13660|                  []|           JI SONG 8|         [null]|                    |                null|                     [null]|    Entity|\n",
            "|[{Cuba, null, , ,...|     36|           null| AEROCARIBBEAN AI...|              []|               null|         null|                        null|   Entity|    [{null, null, }]| 13866|[{, 1044087474}, ...|Abdulaziz Mohamme...|[Saudi Arabian]|Riyadh, Saudi Arabia|                null|               [20/07/1987]|Individual|\n",
            "|[{Cuba, null, , ,...|     36|           null| AEROCARIBBEAN AI...|              []|               null|         null|                        null|   Entity|    [{null, null, }]|  7263|                  []| MAKHTAB AL-KHIDAMAT|         [null]|                    |                null|                     [null]|    Entity|\n",
            "|[{Cuba, null, , ,...|     36|           null| AEROCARIBBEAN AI...|              []|               null|         null|                        null|   Entity|    [{null, null, }]|  8832|                  []|Gun Gun Rusman GU...|   [Indonesian]|Cianjur, West Jav...|                null|               [06/07/1977]|Individual|\n",
            "+--------------------+-------+---------------+--------------------+----------------+-------------------+-------------+----------------------------+---------+--------------------+------+--------------------+--------------------+---------------+--------------------+--------------------+---------------------------+----------+\n",
            "only showing top 20 rows\n",
            "\n"
          ]
        }
      ]
    },
    {
      "cell_type": "code",
      "source": [
        "def fuzzy_string_match(string1, string2):\n",
        "    return fuzz.ratio(string1, string2)\n",
        "\n",
        "fuzzy_string_match_udf = udf(fuzzy_string_match, IntegerType())\n",
        "\n",
        "df_match_percentage = df_crossjoin.withColumn(\"fuzzy_match_percentage\", fuzzy_string_match_udf(\"registered_ofac_name\", \"registered_grb_name\"))"
      ],
      "metadata": {
        "id": "z8DwpfUJ0-yM"
      },
      "execution_count": 36,
      "outputs": []
    },
    {
      "cell_type": "code",
      "source": [
        "df_match_percentage.show()"
      ],
      "metadata": {
        "colab": {
          "base_uri": "https://localhost:8080/"
        },
        "id": "LEO88Rvx__YG",
        "outputId": "a647c3b6-bf33-4422-b0b8-2a2df58b1e0f"
      },
      "execution_count": 37,
      "outputs": [
        {
          "output_type": "stream",
          "name": "stdout",
          "text": [
            "+--------------------+-------+---------------+--------------------+----------------+-------------------+-------------+----------------------------+---------+--------------------+------+--------------------+--------------------+---------------+--------------------+--------------------+---------------------------+----------+----------------------+\n",
            "|      ofac_addresses|ofac_id|ofac_id_numbers|registered_ofac_name|ofac_nationality|ofac_place_of_birth|ofac_position|ofac_reported_dates_of_birth|ofac_type|       grb_addresses|grb_id|      grb_id_numbers| registered_grb_name|gbr_nationality|  gbr_place_of_birth|        gbr_position|gbr_reported_dates_of_birth|  gbr_type|fuzzy_match_percentage|\n",
            "+--------------------+-------+---------------+--------------------+----------------+-------------------+-------------+----------------------------+---------+--------------------+------+--------------------+--------------------+---------------+--------------------+--------------------+---------------------------+----------+----------------------+\n",
            "|[{Cuba, null, , ,...|     36|           null| AEROCARIBBEAN AI...|              []|               null|         null|                        null|   Entity|[{Democratic Peop...| 12847|                  []|KOREAN COMMITTEE ...|         [null]|                    |                null|                     [null]|    Entity|                    23|\n",
            "|[{Cuba, null, , ,...|     36|           null| AEROCARIBBEAN AI...|              []|               null|         null|                        null|   Entity| [{Lebanon, null, }]| 13442|[{Passport: JX446...|      Hassan EL-HAJJ|     [Canadian]|Zaghdraiya, Sidon...|                null|               [22/03/1988]|Individual|                    11|\n",
            "|[{Cuba, null, , ,...|     36|           null| AEROCARIBBEAN AI...|              []|               null|         null|                        null|   Entity|    [{null, null, }]| 13192|[{, 01010744444},...|  Ali Abdullah SALEH|        [Yemen]|(1) Bayt al-Ahmar...|President of Yeme...|       [21/03/1945, 21/0...|Individual|                    15|\n",
            "|[{Cuba, null, , ,...|     36|           null| AEROCARIBBEAN AI...|              []|               null|         null|                        null|   Entity|    [{null, null, }]| 13610|                  []|Michael Makuei LEUTH|         [null]|(1) Bor, South Su...|Minister for Info...|               [00/00/1947]|Individual|                     9|\n",
            "|[{Cuba, null, , ,...|     36|           null| AEROCARIBBEAN AI...|              []|               null|         null|                        null|   Entity|    [{null, null, }]| 13772|                  []|Mohammad Rami Rad...|       [Syrian]|       Aleppo, Syria| Minister of Tourism|               [00/00/1970]|Individual|                    24|\n",
            "|[{Cuba, null, , ,...|     36|           null| AEROCARIBBEAN AI...|              []|               null|         null|                        null|   Entity|    [{null, null, }]| 13865|                  []|Larisa Anatolievn...|      [Russian]|                    |                null|               [18/11/1963]|Individual|                    24|\n",
            "|[{Cuba, null, , ,...|     36|           null| AEROCARIBBEAN AI...|              []|               null|         null|                        null|   Entity|[{Pakistan, null,...| 11205|                  []|       Amir ABDULLAH|       [Afghan]|Paktika Province,...|                null|               [00/00/1972]|Individual|                    17|\n",
            "|[{Cuba, null, , ,...|     36|           null| AEROCARIBBEAN AI...|              []|               null|         null|                        null|   Entity|    [{null, null, }]| 11236|                  []|       Rostam QASEMI|         [null]|         Sargh, Iran|(1) Former Minist...|       [00/00/1961, 05/0...|Individual|                    22|\n",
            "|[{Cuba, null, , ,...|     36|           null| AEROCARIBBEAN AI...|              []|               null|         null|                        null|   Entity|    [{null, null, }]| 12637|                  []|Omar Ibrahim GHAL...|         [null]|      Tartous, Syria|Former Vice Prime...|               [00/00/1954]|Individual|                    26|\n",
            "|[{Cuba, null, , ,...|     36|           null| AEROCARIBBEAN AI...|              []|               null|         null|                        null|   Entity|    [{null, null, }]|  9003|[{Passport: A0002...|Ahmad Vahid DASTJ...|         [Iran]|                    |     Head of the AIO|               [15/01/1954]|Individual|                    23|\n",
            "|[{Cuba, null, , ,...|     36|           null| AEROCARIBBEAN AI...|              []|               null|         null|                        null|   Entity|    [{null, null, }]| 13187|                  []|LUHANSK ECONOMIC ...|         [null]|                    |                null|                     [null]|    Entity|                    27|\n",
            "|[{Cuba, null, , ,...|     36|           null| AEROCARIBBEAN AI...|              []|               null|         null|                        null|   Entity|    [{null, null, }]| 13985|                  []|Ivan Stanislavavi...|   [Belarusian]|(1) Village Priva...|(1) Chairman of K...|               [08/09/1966]|Individual|                    20|\n",
            "|[{Cuba, null, , ,...|     36|           null| AEROCARIBBEAN AI...|              []|               null|         null|                        null|   Entity|[{Jordan, null, A...|  8386|                  []|TRADING AND TRANS...|         [null]|                    |                null|                     [null]|    Entity|                    31|\n",
            "|[{Cuba, null, , ,...|     36|           null| AEROCARIBBEAN AI...|              []|               null|         null|                        null|   Entity|[{Uganda (reporte...| 12204|                  []|        Jamil MUKULU|      [Ugandan]|Ntoke Village, Nt...|Head/Commander of...|       [00/00/1965, 01/0...|Individual|                    11|\n",
            "|[{Cuba, null, , ,...|     36|           null| AEROCARIBBEAN AI...|              []|               null|         null|                        null|   Entity|    [{null, null, }]| 12811|                  []|HAQQANI NETWORK (...|         [null]|                    |                null|                     [null]|    Entity|                    27|\n",
            "|[{Cuba, null, , ,...|     36|           null| AEROCARIBBEAN AI...|              []|               null|         null|                        null|   Entity|[{null, null, Cri...| 13041|                  []|Mikhail Vladimiro...|      [Russian]|  Kuibyshev (Samara)|(1) Member of the...|               [10/07/1981]|Individual|                    19|\n",
            "|[{Cuba, null, , ,...|     36|           null| AEROCARIBBEAN AI...|              []|               null|         null|                        null|   Entity|    [{null, null, }]| 13660|                  []|           JI SONG 8|         [null]|                    |                null|                     [null]|    Entity|                    25|\n",
            "|[{Cuba, null, , ,...|     36|           null| AEROCARIBBEAN AI...|              []|               null|         null|                        null|   Entity|    [{null, null, }]| 13866|[{, 1044087474}, ...|Abdulaziz Mohamme...|[Saudi Arabian]|Riyadh, Saudi Arabia|                null|               [20/07/1987]|Individual|                    15|\n",
            "|[{Cuba, null, , ,...|     36|           null| AEROCARIBBEAN AI...|              []|               null|         null|                        null|   Entity|    [{null, null, }]|  7263|                  []| MAKHTAB AL-KHIDAMAT|         [null]|                    |                null|                     [null]|    Entity|                    19|\n",
            "|[{Cuba, null, , ,...|     36|           null| AEROCARIBBEAN AI...|              []|               null|         null|                        null|   Entity|    [{null, null, }]|  8832|                  []|Gun Gun Rusman GU...|   [Indonesian]|Cianjur, West Jav...|                null|               [06/07/1977]|Individual|                    18|\n",
            "+--------------------+-------+---------------+--------------------+----------------+-------------------+-------------+----------------------------+---------+--------------------+------+--------------------+--------------------+---------------+--------------------+--------------------+---------------------------+----------+----------------------+\n",
            "only showing top 20 rows\n",
            "\n"
          ]
        }
      ]
    },
    {
      "cell_type": "code",
      "source": [
        "percentage_filtered_df = df_match_percentage.filter(col(\"fuzzy_match_percentage\") > 80)\n"
      ],
      "metadata": {
        "id": "5S1xyg9G1C0E"
      },
      "execution_count": 38,
      "outputs": []
    },
    {
      "cell_type": "code",
      "source": [
        "\n",
        "percentage_filtered_df.show()"
      ],
      "metadata": {
        "colab": {
          "base_uri": "https://localhost:8080/"
        },
        "id": "TrBaFWQw_fHG",
        "outputId": "fed022fc-96bc-41ba-e0ce-4818d15f3573"
      },
      "execution_count": 39,
      "outputs": [
        {
          "output_type": "stream",
          "name": "stdout",
          "text": [
            "+--------------------+-------+--------------------+--------------------+----------------+--------------------+--------------------+----------------------------+----------+--------------------+------+--------------+--------------------+---------------+------------------+--------------------+---------------------------+----------+----------------------+\n",
            "|      ofac_addresses|ofac_id|     ofac_id_numbers|registered_ofac_name|ofac_nationality| ofac_place_of_birth|       ofac_position|ofac_reported_dates_of_birth| ofac_type|       grb_addresses|grb_id|grb_id_numbers| registered_grb_name|gbr_nationality|gbr_place_of_birth|        gbr_position|gbr_reported_dates_of_birth|  gbr_type|fuzzy_match_percentage|\n",
            "+--------------------+-------+--------------------+--------------------+----------------+--------------------+--------------------+----------------------------+----------+--------------------+------+--------------+--------------------+---------------+------------------+--------------------+---------------------------+----------+----------------------+\n",
            "|[{Switzerland, CH...|   2831|[{United States U...|  MIDCO FINANCE S.A.|              []|                null|                null|                        null|    Entity|    [{null, null, }]|  8284|            []|MIDCO FINANCIAL, ...|         [null]|                  |                null|                     [null]|    Entity|                    85|\n",
            "|                null|   4688|                null|    ABU SAYYAF GROUP|              []|                null|                null|                        null|    Entity|[{Philippines, nu...|  6935|            []|    ABU SAYYAF GROUP|         [null]|                  |                null|                     [null]|    Entity|                    97|\n",
            "|                null|   4690|                null| ARMED ISLAMIC GROUP|              []|                null|                null|                        null|    Entity| [{Algeria, null, }]|  6963|            []| ARMED ISLAMIC GROUP|         [null]|                  |                null|                     [null]|    Entity|                    97|\n",
            "|                null|   4693|                null| EUZKADI TA ASKAT...|              []|                null|                null|                        null|    Entity|    [{null, null, }]|  7083|            []|EUSKADI TA ASKATA...|         [null]|                  |                null|                     [null]|    Entity|                    82|\n",
            "|                null|   4694|                null| GAMA'A AL-ISLAMIYYA|              []|                null|                null|                        null|    Entity|    [{null, null, }]|  6988|            []|AL-GAMA'A AL-ISLA...|         [null]|                  |                null|                     [null]|    Entity|                    90|\n",
            "|                null|   4697|[{ Additional San...|           HIZBALLAH|              []|                null|                null|                        null|    Entity|    [{null, null, }]| 13804|            []|           HIZBALLAH|         [null]|                  |                null|                     [null]|    Entity|                    95|\n",
            "|                null|   4703|                null| LIBERATION TIGER...|              []|                null|                null|                        null|    Entity|    [{null, null, }]|  7126|            []|LIBERATION TIGERS...|         [null]|                  |                null|                     [null]|    Entity|                    89|\n",
            "|                null|   4709|                null| POPULAR FRONT FO...|              []|                null|                null|                        null|    Entity|    [{null, null, }]|  7401|            []|THE POPULAR FRONT...|         [null]|                  |                null|                     [null]|    Entity|                    86|\n",
            "|                null|   4710|                null| POPULAR FRONT FO...|              []|                null|                null|                        null|    Entity|    [{null, null, }]|  7399|            []|THE POPULAR FRONT...|         [null]|                  |                null|                     [null]|    Entity|                    93|\n",
            "|[{Afghanistan, nu...|   6635|                null|       Mohammed OMAR|              []|Hotak, Kandahar P...|Commander of the ...|                      [1950]|Individual|    [{null, null, }]| 12052|            []|      Mohammed JABIR|       [Syrian]|    Latakia, Syria|Founder of Desert...|                     [null]|Individual|                    81|\n",
            "|[{Afghanistan, nu...|   6635|                null|       Mohammed OMAR|              []|Hotak, Kandahar P...|Commander of the ...|                      [1950]|Individual|    [{null, null, }]| 12470|            []|      Mohamed MAARUF|         [null]|                  |Commander of the ...|                     [null]|Individual|                    81|\n",
            "|                null|   6725|                null| ISLAMIC MOVEMENT...|              []|                null|                null|                        null|    Entity|    [{null, null, }]|  7199|            []|ISLAMIC MOVEMENT ...|         [null]|                  |                null|                     [null]|    Entity|                    98|\n",
            "|                null|   6896|                null|      ASBAT AL-ANSAR|              []|                null|                null|                        null|    Entity|[{Lebanon, null, ...|  7031|            []|      ASBAT AL-ANSAR|         [null]|                  |                null|                     [null]|    Entity|                    97|\n",
            "|                null|   6898|                null| LIBYAN ISLAMIC F...|              []|                null|                null|                        null|    Entity|[{Libyan Arab Jam...|  7249|            []|LIBYAN ISLAMIC FI...|         [null]|                  |                null|                     [null]|    Entity|                    98|\n",
            "|                null|   6899|                null| AL-ITIHAAD AL-IS...|              []|                null|                null|                        null|    Entity|    [{null, null, }]|  6996|            []|AL-ITIHAAD AL-ISL...|         [null]|                  |                null|                     [null]|    Entity|                    85|\n",
            "|                null|   6900|                null| ISLAMIC ARMY OF ...|              []|                null|                null|                        null|    Entity|    [{null, null, }]|  7205|            []|ISLAMIC ARMY OF ADEN|         [null]|                  |                null|                     [null]|    Entity|                    98|\n",
            "|                null|   6907|                null|Thirwat Salah SHI...|              []|               Egypt|                null|               [29 Jun 1960]|Individual|    [{null, null, }]|  6899|            []|Tharwat Salah SHI...|     [Egyptian]|             Egypt|                null|               [29/06/1960]|Individual|                    95|\n",
            "|                null|   6908|                null|Tariq Anwar al-Sa...|              []|   Alexandria, Egypt|                null|               [15 Mar 1963]|Individual|    [{null, null, }]|  7011|            []|Tariq Anwar El Sa...|     [Egyptian]| Alexandria, Egypt|                null|               [15/03/1963]|Individual|                    83|\n",
            "|                null|   6911|                null| WAFA HUMANITARIA...|              []|                null|                null|                        null|    Entity|[{Kuwait (at time...|  6972|            []|WAFA HUMANITARIAN...|         [null]|                  |                null|                     [null]|    Entity|                    98|\n",
            "|[{Pakistan, null,...|   6912|                null|     AL RASHID TRUST|              []|                null|                null|                        null|    Entity|[{Pakistan, null,...|  6968|            []|     AL RASHID TRUST|         [null]|                  |                null|                     [null]|    Entity|                    97|\n",
            "+--------------------+-------+--------------------+--------------------+----------------+--------------------+--------------------+----------------------------+----------+--------------------+------+--------------+--------------------+---------------+------------------+--------------------+---------------------------+----------+----------------------+\n",
            "only showing top 20 rows\n",
            "\n"
          ]
        }
      ]
    },
    {
      "cell_type": "code",
      "source": [
        "percentage_filtered_df.write.json(\"final_output.json\")"
      ],
      "metadata": {
        "id": "YpYG7bz__VGQ"
      },
      "execution_count": 40,
      "outputs": []
    },
    {
      "cell_type": "code",
      "source": [],
      "metadata": {
        "id": "fSR0Q9UaxTNC"
      },
      "execution_count": null,
      "outputs": []
    }
  ]
}